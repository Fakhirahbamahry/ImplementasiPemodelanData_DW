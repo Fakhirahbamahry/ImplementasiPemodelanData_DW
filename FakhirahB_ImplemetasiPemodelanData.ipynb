{
 "cells": [
  {
   "cell_type": "code",
   "execution_count": 1,
   "metadata": {},
   "outputs": [
    {
     "name": "stdout",
     "output_type": "stream",
     "text": [
      "Connection to MySQL DB successful\n"
     ]
    }
   ],
   "source": [
    "import mysql.connector\n",
    "from mysql.connector import Error\n",
    "\n",
    "def create_connection(host_name, user_name, user_password):\n",
    "    connection = None\n",
    "    try:\n",
    "        connection = mysql.connector.connect(\n",
    "            host=host_name,\n",
    "            user=user_name,\n",
    "            passwd=user_password\n",
    "        )\n",
    "        print(\"Connection to MySQL DB successful\")\n",
    "    except Error as e:\n",
    "        print(f\"The error '{e}' occurred\")\n",
    "\n",
    "    return connection\n",
    "\n",
    "connection = create_connection(\"localhost\", \"root\", \"\")"
   ]
  },
  {
   "cell_type": "code",
   "execution_count": 7,
   "metadata": {},
   "outputs": [],
   "source": [
    "def create_database(connection, query):\n",
    "    cursor = connection.cursor()\n",
    "    try:\n",
    "        cursor.execute(query)\n",
    "        print(\"Database created successfully\")\n",
    "    except Error as e:\n",
    "        print(f\"The error '{e}' occurred\")"
   ]
  },
  {
   "cell_type": "code",
   "execution_count": 8,
   "metadata": {},
   "outputs": [
    {
     "name": "stdout",
     "output_type": "stream",
     "text": [
      "('hellow',)\n",
      "('information_schema',)\n",
      "('login',)\n",
      "('mysql',)\n",
      "('namiroh',)\n",
      "('performance_schema',)\n",
      "('phpmyadmin',)\n",
      "('sales',)\n",
      "('test',)\n"
     ]
    }
   ],
   "source": [
    "show_db_query = \"SHOW DATABASES\"\n",
    "with connection.cursor() as cursor:\n",
    "     cursor.execute(show_db_query)\n",
    "     for db in cursor:\n",
    "         print(db)"
   ]
  },
  {
   "cell_type": "code",
   "execution_count": 19,
   "metadata": {},
   "outputs": [
    {
     "name": "stdout",
     "output_type": "stream",
     "text": [
      "Database created successfully\n"
     ]
    }
   ],
   "source": [
    "create_database_query = \"CREATE DATABASE online_movie_rating\"\n",
    "create_database(connection, create_database_query)"
   ]
  },
  {
   "cell_type": "code",
   "execution_count": 35,
   "metadata": {},
   "outputs": [
    {
     "name": "stdout",
     "output_type": "stream",
     "text": [
      "Connection to MySQL DB successful\n"
     ]
    }
   ],
   "source": [
    "def create_connection(host_name, user_name, user_password):\n",
    "    connection = None\n",
    "    try:\n",
    "        connection = mysql.connector.connect(\n",
    "            host=host_name,\n",
    "            user=user_name,\n",
    "            passwd=user_password,\n",
    "            database=\"online_movie_rating\"\n",
    "        )\n",
    "        print(\"Connection to MySQL DB successful\")\n",
    "    except Error as e:\n",
    "        print(f\"The error '{e}' occurred\")\n",
    "\n",
    "    return connection\n",
    "\n",
    "connection = create_connection(\"localhost\", \"root\", \"\")"
   ]
  },
  {
   "cell_type": "code",
   "execution_count": 36,
   "metadata": {},
   "outputs": [
    {
     "name": "stdout",
     "output_type": "stream",
     "text": [
      "('id', 'int(11)', 'NO', 'PRI', None, '')\n",
      "('title', 'varchar(100)', 'NO', '', None, '')\n",
      "('release_year', 'year(4)', 'NO', '', None, '')\n",
      "('genre', 'varchar(100)', 'NO', '', None, '')\n",
      "('collection_in_mil', 'int(11)', 'NO', '', None, '')\n"
     ]
    }
   ],
   "source": [
    "show_table_query = \"DESCRIBE movies\"\n",
    "with connection.cursor() as cursor:\n",
    "     cursor.execute(show_table_query)\n",
    "     # Fetch rows from last executed query\n",
    "     result = cursor.fetchall()\n",
    "     for row in result:\n",
    "        print(row)"
   ]
  },
  {
   "cell_type": "code",
   "execution_count": 40,
   "metadata": {},
   "outputs": [
    {
     "name": "stdout",
     "output_type": "stream",
     "text": [
      "Query executed successfully\n"
     ]
    }
   ],
   "source": [
    "insert_movies_query = \"\"\"\n",
    "INSERT INTO movies (id,title, release_year, genre, collection_in_mil)\n",
    "VALUES\n",
    "    (1,\"Forrest Gump\", 1994, \"Drama\", 330.2),\n",
    "    (2,\"3 Idiots\", 2009, \"Drama\", 2.4),\n",
    "    (3,\"Eternal Sunshine of the Spotless Mind\", 2004, \"Drama\", 34.5),\n",
    "    (4,\"Good Will Hunting\", 1997, \"Drama\", 138.1),\n",
    "    (5,\"Skyfall\", 2012, \"Action\", 304.6),\n",
    "    (6,\"Gladiator\", 2000, \"Action\", 188.7),\n",
    "    (7,\"Black\", 2005, \"Drama\", 3.0),\n",
    "    (8,\"Titanic\", 1997, \"Romance\", 659.2),\n",
    "    (9,\"The Shawshank Redemption\", 1994, \"Drama\",28.4),\n",
    "    (10,\"Udaan\", 2010, \"Drama\", 1.5),\n",
    "    (11,\"Home Alone\", 1990, \"Comedy\", 286.9),\n",
    "    (12,\"Casablanca\", 1942, \"Romance\", 1.0),\n",
    "    (13,\"Avengers: Endgame\", 2019, \"Action\", 858.8),\n",
    "    (14,\"Night of the Living Dead\", 1968, \"Horror\", 2.5),\n",
    "    (15,\"The Godfather\", 1972, \"Crime\", 135.6);\n",
    "\"\"\"\n",
    "execute_query(connection, insert_movies_query)  "
   ]
  },
  {
   "cell_type": "code",
   "execution_count": 47,
   "metadata": {},
   "outputs": [
    {
     "name": "stdout",
     "output_type": "stream",
     "text": [
      "Query executed successfully\n"
     ]
    }
   ],
   "source": [
    "insert_reviewers_query = \"\"\"\n",
    "INSERT INTO reviewers (id,first_name,last_name)\n",
    "VALUES\n",
    "    (1,\"Chaitanya\", \"Baweja\"),\n",
    "    (2,\"Mary\", \"Cooper\"),\n",
    "    (3,\"John\", \"Wayne\"),\n",
    "    (4,\"Thomas\", \"Stoneman\"),\n",
    "    (5,\"Penny\", \"Hofstadter\"),\n",
    "    (6,\"Mitchell\", \"Marsh\"),\n",
    "    (7,\"Wyatt\", \"Skaggs\"),\n",
    "    (8,\"Andre\", \"Veiga\"),\n",
    "    (9,\"Sheldon\", \"Cooper\"),\n",
    "    (10,\"Kimbra\", \"Masters\"),\n",
    "    (11,\"Kat\", \"Dennings\"),\n",
    "    (12,\"Bruce\", \"Wayne\"),\n",
    "    (13,\"Domingo\", \"Cortes\"),\n",
    "    (14,\"Rajesh\", \"Koothrappali\"),\n",
    "    (15,\"Ben\", \"Glocker\");\n",
    "\"\"\"\n",
    "execute_query(connection, insert_reviewers_query)  "
   ]
  },
  {
   "cell_type": "code",
   "execution_count": 50,
   "metadata": {},
   "outputs": [
    {
     "name": "stdout",
     "output_type": "stream",
     "text": [
      "Query executed successfully\n"
     ]
    }
   ],
   "source": [
    "insert_ratings_query = \"\"\"\n",
    "INSERT INTO ratings (rating,movie_id,reviewer_id)\n",
    "VALUES\n",
    "    (8.1,1,15),\n",
    "    (7.5,2,14),\n",
    "    (8.2,3,13),\n",
    "    (6,4,12),\n",
    "    (5.7,5,11),\n",
    "    (7.3,6,10),\n",
    "    (7,7,9),\n",
    "    (8.1,8,8),\n",
    "    (9.5,9,7),\n",
    "    (6.5,10,6),\n",
    "    (6,11,5),\n",
    "    (8.9,12,4),\n",
    "    (8.8,13,3),\n",
    "    (7.2,14,2),\n",
    "    (5.5,15,1);\n",
    "\"\"\"\n",
    "execute_query(connection, insert_ratings_query)  "
   ]
  },
  {
   "cell_type": "code",
   "execution_count": 51,
   "metadata": {},
   "outputs": [
    {
     "name": "stdout",
     "output_type": "stream",
     "text": [
      "(1, 'Forrest Gump', 1994, 'Drama', 330)\n",
      "(2, '3 Idiots', 2009, 'Drama', 2)\n",
      "(3, 'Eternal Sunshine of the Spotless Mind', 2004, 'Drama', 35)\n",
      "(4, 'Good Will Hunting', 1997, 'Drama', 138)\n",
      "(5, 'Skyfall', 2012, 'Action', 305)\n"
     ]
    }
   ],
   "source": [
    "select_movies_query = \"SELECT * FROM movies LIMIT 5\"\n",
    "with connection.cursor() as cursor:\n",
    "     cursor.execute(select_movies_query)\n",
    "     result = cursor.fetchall()\n",
    "     for row in result:\n",
    "         print(row)"
   ]
  },
  {
   "cell_type": "code",
   "execution_count": 52,
   "metadata": {},
   "outputs": [
    {
     "name": "stdout",
     "output_type": "stream",
     "text": [
      "('Forrest Gump', 1994)\n",
      "('3 Idiots', 2009)\n",
      "('Eternal Sunshine of the Spotless Mind', 2004)\n",
      "('Good Will Hunting', 1997)\n",
      "('Skyfall', 2012)\n"
     ]
    }
   ],
   "source": [
    "select_movies_query = \"SELECT title, release_year FROM movies LIMIT 5\"\n",
    "with connection.cursor() as cursor:\n",
    "     cursor.execute(select_movies_query)\n",
    "     for row in cursor.fetchall():\n",
    "         print(row)"
   ]
  },
  {
   "cell_type": "code",
   "execution_count": 53,
   "metadata": {},
   "outputs": [
    {
     "name": "stdout",
     "output_type": "stream",
     "text": [
      "('Avengers: Endgame', 859)\n",
      "('Titanic', 659)\n",
      "('Forrest Gump', 330)\n",
      "('Skyfall', 305)\n"
     ]
    }
   ],
   "source": [
    "select_movies_query = \"\"\"\n",
    " SELECT title, collection_in_mil\n",
    " FROM movies\n",
    " WHERE collection_in_mil > 300\n",
    " ORDER BY collection_in_mil DESC\n",
    " \"\"\"\n",
    "with connection.cursor() as cursor:\n",
    "     cursor.execute(select_movies_query)\n",
    "     for movie in cursor.fetchall():\n",
    "         print(movie)"
   ]
  },
  {
   "cell_type": "code",
   "execution_count": 54,
   "metadata": {},
   "outputs": [
    {
     "name": "stdout",
     "output_type": "stream",
     "text": [
      "('The Shawshank Redemption', Decimal('10.0000'))\n",
      "('Avengers: Endgame', Decimal('9.0000'))\n",
      "('Casablanca', Decimal('9.0000'))\n",
      "('Titanic', Decimal('8.0000'))\n",
      "('3 Idiots', Decimal('8.0000'))\n"
     ]
    }
   ],
   "source": [
    "select_movies_query = \"\"\"\n",
    " SELECT title, AVG(rating) as average_rating\n",
    " FROM ratings\n",
    " INNER JOIN movies\n",
    " ON movies.id = ratings.movie_id\n",
    " GROUP BY movie_id\n",
    " ORDER BY average_rating DESC\n",
    " LIMIT 5\n",
    " \"\"\"\n",
    "with connection.cursor() as cursor:\n",
    "     cursor.execute(select_movies_query)\n",
    "     for movie in cursor.fetchall():\n",
    "         print(movie)"
   ]
  },
  {
   "cell_type": "code",
   "execution_count": 55,
   "metadata": {},
   "outputs": [
    {
     "name": "stdout",
     "output_type": "stream",
     "text": [
      "Query executed successfully\n"
     ]
    }
   ],
   "source": [
    "update_query = \"\"\"\n",
    "UPDATE\n",
    "    reviewers\n",
    "SET\n",
    "    last_name = \"Coolesh\"\n",
    "WHERE\n",
    "    first_name = \"Mary\"\n",
    "\"\"\"\n",
    "execute_query(connection, update_query)  "
   ]
  },
  {
   "cell_type": "code",
   "execution_count": 56,
   "metadata": {},
   "outputs": [
    {
     "name": "stdout",
     "output_type": "stream",
     "text": [
      "('Chaitanya', 'Baweja')\n",
      "('Mary', 'Coolesh')\n",
      "('John', 'Wayne')\n",
      "('Thomas', 'Stoneman')\n",
      "('Penny', 'Hofstadter')\n",
      "('Mitchell', 'Marsh')\n",
      "('Wyatt', 'Skaggs')\n",
      "('Andre', 'Veiga')\n",
      "('Sheldon', 'Cooper')\n",
      "('Kimbra', 'Masters')\n",
      "('Kat', 'Dennings')\n",
      "('Bruce', 'Wayne')\n",
      "('Domingo', 'Cortes')\n",
      "('Rajesh', 'Koothrappali')\n",
      "('Ben', 'Glocker')\n"
     ]
    }
   ],
   "source": [
    "select_query = \"\"\"\n",
    " SELECT first_name, last_name\n",
    " FROM reviewers\n",
    " \"\"\"\n",
    "with connection.cursor() as cursor:\n",
    "     cursor.execute(select_query)\n",
    "     for reviewer in cursor.fetchall():\n",
    "         print(reviewer)"
   ]
  }
 ],
 "metadata": {
  "kernelspec": {
   "display_name": "Python 3",
   "language": "python",
   "name": "python3"
  },
  "language_info": {
   "codemirror_mode": {
    "name": "ipython",
    "version": 3
   },
   "file_extension": ".py",
   "mimetype": "text/x-python",
   "name": "python",
   "nbconvert_exporter": "python",
   "pygments_lexer": "ipython3",
   "version": "3.7.4"
  }
 },
 "nbformat": 4,
 "nbformat_minor": 2
}
